{
  "nbformat": 4,
  "nbformat_minor": 0,
  "metadata": {
    "colab": {
      "name": "MNIST.ipynb",
      "version": "0.3.2",
      "provenance": [],
      "collapsed_sections": [],
      "include_colab_link": true
    },
    "kernelspec": {
      "name": "python3",
      "display_name": "Python 3"
    },
    "accelerator": "GPU"
  },
  "cells": [
    {
      "cell_type": "markdown",
      "metadata": {
        "id": "view-in-github",
        "colab_type": "text"
      },
      "source": [
        "<a href=\"https://colab.research.google.com/github/madhusudanrudresh/MNIST-Image-classification/blob/master/MNIST.ipynb\" target=\"_parent\"><img src=\"https://colab.research.google.com/assets/colab-badge.svg\" alt=\"Open In Colab\"/></a>"
      ]
    },
    {
      "metadata": {
        "id": "PAVlESJ-Ant9",
        "colab_type": "text"
      },
      "cell_type": "markdown",
      "source": [
        "# MNIST Dataset\n",
        "\n",
        "I will be working on the MNIST dataset here. The dataset consists of hand-written digits and we are going to develop Convolutional Neural Network to classify the images into its categories. I will be using Keras API since its very intuitive."
      ]
    },
    {
      "metadata": {
        "id": "n95KOCoq7jYT",
        "colab_type": "text"
      },
      "cell_type": "markdown",
      "source": [
        "## Importing the libraries"
      ]
    },
    {
      "metadata": {
        "id": "GZeLkEKKmd3Z",
        "colab_type": "code",
        "colab": {
          "base_uri": "https://localhost:8080/",
          "height": 34
        },
        "outputId": "c5db484e-af2e-435b-8422-cb74c53fec32"
      },
      "cell_type": "code",
      "source": [
        "import numpy as np\n",
        "import pandas as pd\n",
        "import tensorflow as tf\n",
        "import keras\n",
        "from keras.datasets import mnist\n",
        "from keras.utils import to_categorical\n",
        "from keras.models import Sequential\n",
        "from keras.layers import Dense, Activation, Dropout, Flatten\n",
        "from keras.layers import Conv2D, MaxPool2D\n",
        "import matplotlib.pyplot as plt\n",
        "import seaborn as sns"
      ],
      "execution_count": 1,
      "outputs": [
        {
          "output_type": "stream",
          "text": [
            "Using TensorFlow backend.\n"
          ],
          "name": "stderr"
        }
      ]
    },
    {
      "metadata": {
        "id": "m7ElRD7v7taE",
        "colab_type": "text"
      },
      "cell_type": "markdown",
      "source": [
        "## Loading the dataset"
      ]
    },
    {
      "metadata": {
        "id": "MwMld5nDmhud",
        "colab_type": "code",
        "colab": {
          "base_uri": "https://localhost:8080/",
          "height": 51
        },
        "outputId": "3e5dd58d-6703-40fe-8247-37e503df5f42"
      },
      "cell_type": "code",
      "source": [
        "(x_train,y_train), (x_test,y_test) = mnist.load_data()"
      ],
      "execution_count": 2,
      "outputs": [
        {
          "output_type": "stream",
          "text": [
            "Downloading data from https://s3.amazonaws.com/img-datasets/mnist.npz\n",
            "11493376/11490434 [==============================] - 1s 0us/step\n"
          ],
          "name": "stdout"
        }
      ]
    },
    {
      "metadata": {
        "id": "itoYy2ANmkdR",
        "colab_type": "code",
        "outputId": "ccb4a44e-6cfd-4cbb-9c62-f49a783d08a3",
        "colab": {
          "base_uri": "https://localhost:8080/",
          "height": 85
        }
      },
      "cell_type": "code",
      "source": [
        "print('Shape of x_train: {}'.format(x_train.shape))\n",
        "print('Shape of y_train: {}'.format(y_train.shape))\n",
        "print('Shape of x_test: {}'.format(x_test.shape))\n",
        "print('Shape of y_test: {}'.format(y_test.shape))"
      ],
      "execution_count": 3,
      "outputs": [
        {
          "output_type": "stream",
          "text": [
            "Shape of x_train: (60000, 28, 28)\n",
            "Shape of y_train: (60000,)\n",
            "Shape of x_test: (10000, 28, 28)\n",
            "Shape of y_test: (10000,)\n"
          ],
          "name": "stdout"
        }
      ]
    },
    {
      "metadata": {
        "id": "6JeILilamt1o",
        "colab_type": "code",
        "outputId": "4bd8088d-7769-47cd-c8a9-e7dbba362380",
        "colab": {
          "base_uri": "https://localhost:8080/",
          "height": 399
        }
      },
      "cell_type": "code",
      "source": [
        "sns.set()\n",
        "sns.countplot(y_train)"
      ],
      "execution_count": 4,
      "outputs": [
        {
          "output_type": "stream",
          "text": [
            "/usr/local/lib/python3.6/dist-packages/seaborn/categorical.py:1428: FutureWarning: remove_na is deprecated and is a private function. Do not use.\n",
            "  stat_data = remove_na(group_data)\n"
          ],
          "name": "stderr"
        },
        {
          "output_type": "execute_result",
          "data": {
            "text/plain": [
              "<matplotlib.axes._subplots.AxesSubplot at 0x7f8560bf7390>"
            ]
          },
          "metadata": {
            "tags": []
          },
          "execution_count": 4
        },
        {
          "output_type": "display_data",
          "data": {
            "image/png": "[encoded data removed]",
            "text/plain": [
              "<Figure size 576x396 with 1 Axes>"
            ]
          },
          "metadata": {
            "tags": []
          }
        }
      ]
    },
    {
      "metadata": {
        "id": "KiVMS8o3mwiY",
        "colab_type": "code",
        "outputId": "98dac515-bf9e-4e58-fbb2-7bf7b5f7506c",
        "colab": {
          "base_uri": "https://localhost:8080/",
          "height": 398
        }
      },
      "cell_type": "code",
      "source": [
        "sns.countplot(y_test)"
      ],
      "execution_count": 5,
      "outputs": [
        {
          "output_type": "stream",
          "text": [
            "/usr/local/lib/python3.6/dist-packages/seaborn/categorical.py:1428: FutureWarning: remove_na is deprecated and is a private function. Do not use.\n",
            "  stat_data = remove_na(group_data)\n"
          ],
          "name": "stderr"
        },
        {
          "output_type": "execute_result",
          "data": {
            "text/plain": [
              "<matplotlib.axes._subplots.AxesSubplot at 0x7f8560014f98>"
            ]
          },
          "metadata": {
            "tags": []
          },
          "execution_count": 5
        },
        {
          "output_type": "display_data",
          "data": {
            "image/png": "[encoded data removed]",
            "text/plain": [
              "<Figure size 576x396 with 1 Axes>"
            ]
          },
          "metadata": {
            "tags": []
          }
        }
      ]
    },
    {
      "metadata": {
        "id": "S-vobDMrBcFL",
        "colab_type": "text"
      },
      "cell_type": "markdown",
      "source": [
        "We can see that the distribution of numbers in both the training and test dataset are balanced. "
      ]
    },
    {
      "metadata": {
        "id": "zV01rom7BoTE",
        "colab_type": "text"
      },
      "cell_type": "markdown",
      "source": [
        "## Data preparation\n",
        "\n",
        "### 1. Normalising the dataset"
      ]
    },
    {
      "metadata": {
        "id": "kHkp47iAm7eH",
        "colab_type": "code",
        "colab": {}
      },
      "cell_type": "code",
      "source": [
        "x_trainnorm = x_train/255\n",
        "x_testnorm = x_test/255"
      ],
      "execution_count": 0,
      "outputs": []
    },
    {
      "metadata": {
        "id": "sQcdS1Wb8BZw",
        "colab_type": "code",
        "outputId": "91a9b66b-68ea-4814-94f2-e1f167037590",
        "colab": {
          "base_uri": "https://localhost:8080/",
          "height": 401
        }
      },
      "cell_type": "code",
      "source": [
        "count = 1\n",
        "fig, ax = plt.subplots(3,3)\n",
        "for i in range(3):\n",
        "  for j in range(3):\n",
        "    ax[i,j].imshow(x_trainnorm[count])\n",
        "    ax[i,j].set_title('True Label: {}'.format(y_train[count]))\n",
        "    count += 1\n",
        "\n",
        "plt.tight_layout()"
      ],
      "execution_count": 7,
      "outputs": [
        {
          "output_type": "display_data",
          "data": {
            "image/png": "[encoded data removed]",
            "text/plain": [
              "<Figure size 576x396 with 9 Axes>"
            ]
          },
          "metadata": {
            "tags": []
          }
        }
      ]
    },
    {
      "metadata": {
        "id": "X_EbC-oUCHea",
        "colab_type": "text"
      },
      "cell_type": "markdown",
      "source": [
        "### 2. Reshape the dataset\n",
        "\n",
        "It is better to prededine the shape of the dataset. Since all the MNIST images are gray scaled, so it only uses one channel. Therefore, we can reshape the images into (28,28,1) matrices"
      ]
    },
    {
      "metadata": {
        "id": "tNJjSXUKCGn6",
        "colab_type": "code",
        "colab": {}
      },
      "cell_type": "code",
      "source": [
        "x_train = x_trainnorm.reshape(x_train.shape[0],28,28,1)\n",
        "x_test = x_testnorm.reshape(x_test.shape[0],28,28,1)"
      ],
      "execution_count": 0,
      "outputs": []
    },
    {
      "metadata": {
        "id": "B0QV0VTNLfLe",
        "colab_type": "code",
        "outputId": "006f5e64-4201-42ef-9315-8ba7f2edf746",
        "colab": {
          "base_uri": "https://localhost:8080/",
          "height": 34
        }
      },
      "cell_type": "code",
      "source": [
        "x_train.shape"
      ],
      "execution_count": 9,
      "outputs": [
        {
          "output_type": "execute_result",
          "data": {
            "text/plain": [
              "(60000, 28, 28, 1)"
            ]
          },
          "metadata": {
            "tags": []
          },
          "execution_count": 9
        }
      ]
    },
    {
      "metadata": {
        "id": "YdCUj6FjC1XL",
        "colab_type": "text"
      },
      "cell_type": "markdown",
      "source": [
        "### 3. Spliting the training dataset\n",
        "\n",
        "I will split the training set into training(80%) and validation set(20%) "
      ]
    },
    {
      "metadata": {
        "id": "73BR9xLRnASt",
        "colab_type": "code",
        "colab": {}
      },
      "cell_type": "code",
      "source": [
        "from sklearn.model_selection import train_test_split"
      ],
      "execution_count": 0,
      "outputs": []
    },
    {
      "metadata": {
        "id": "nGmOjB1LnFFc",
        "colab_type": "code",
        "colab": {}
      },
      "cell_type": "code",
      "source": [
        "x_train, x_val, y_train, y_val = train_test_split(x_train, y_train, test_size=0.2, random_state=42)"
      ],
      "execution_count": 0,
      "outputs": []
    },
    {
      "metadata": {
        "id": "cFs1cy_PnKBS",
        "colab_type": "text"
      },
      "cell_type": "markdown",
      "source": [
        "### 4. Label Encoding\n",
        "\n",
        "Converting labels into one hot encoding"
      ]
    },
    {
      "metadata": {
        "id": "Tqv3fRsXnGzs",
        "colab_type": "code",
        "colab": {}
      },
      "cell_type": "code",
      "source": [
        "num_classes = 10   # 0-9 digits\n",
        "\n",
        "y_train = to_categorical(y_train,num_classes)\n",
        "y_val = to_categorical(y_val,num_classes)\n",
        "y_test = to_categorical(y_test,num_classes)"
      ],
      "execution_count": 0,
      "outputs": []
    },
    {
      "metadata": {
        "id": "6JNXPW1znTSx",
        "colab_type": "text"
      },
      "cell_type": "markdown",
      "source": [
        "## CNN Model\n",
        "\n",
        "I will be building a Sequential CNN Model for the image classification. \n",
        "\n",
        "1. The first two layers are Convolutional layers with 32 filters of kernel size 3x3. The Relu activation function is used\n",
        "2. Max Pooling layer of 2x2 filter is used which basically downsamples the images and ultimately reduces the computional cost\n",
        "3. Dropout of 0.25 is used which means only 75% of the nodes will be active at any point of time. This regularization techniques reduces overfitting."
      ]
    },
    {
      "metadata": {
        "id": "bLi0cECULQhP",
        "colab_type": "code",
        "outputId": "dbe974d9-de05-41c9-cf3c-365039497637",
        "colab": {
          "base_uri": "https://localhost:8080/",
          "height": 34
        }
      },
      "cell_type": "code",
      "source": [
        "x_train.shape"
      ],
      "execution_count": 13,
      "outputs": [
        {
          "output_type": "execute_result",
          "data": {
            "text/plain": [
              "(48000, 28, 28, 1)"
            ]
          },
          "metadata": {
            "tags": []
          },
          "execution_count": 13
        }
      ]
    },
    {
      "metadata": {
        "id": "K2gUEAx-nLDM",
        "colab_type": "code",
        "outputId": "fd760a52-7639-4314-d2c8-dd8e9e1f7a40",
        "colab": {
          "base_uri": "https://localhost:8080/",
          "height": 139
        }
      },
      "cell_type": "code",
      "source": [
        "model = Sequential()\n",
        "\n",
        "model.add(Conv2D(32, (3, 3), padding='same', activation= 'relu',input_shape=x_train.shape[1:]))\n",
        "model.add(Conv2D(32, (3, 3), activation='relu'))\n",
        "model.add(MaxPool2D(pool_size=(2, 2)))\n",
        "model.add(Dropout(0.25)) \n",
        "\n",
        "model.add(Conv2D(64, (3, 3), padding='same', activation= 'relu'))\n",
        "model.add(Conv2D(64, (3, 3), activation='relu'))\n",
        "model.add(MaxPool2D(pool_size=(2, 2)))\n",
        "model.add(Dropout(0.25)) \n",
        "\n",
        "model.add(Flatten())                     ## Flattening out of the network to one dimensional vec\n",
        "model.add(Dense(256))\n",
        "model.add(Activation('relu'))\n",
        "model.add(Dropout(0.5))\n",
        "model.add(Dense(num_classes))\n",
        "model.add(Activation('softmax'))"
      ],
      "execution_count": 14,
      "outputs": [
        {
          "output_type": "stream",
          "text": [
            "WARNING:tensorflow:From /usr/local/lib/python3.6/dist-packages/tensorflow/python/framework/op_def_library.py:263: colocate_with (from tensorflow.python.framework.ops) is deprecated and will be removed in a future version.\n",
            "Instructions for updating:\n",
            "Colocations handled automatically by placer.\n",
            "WARNING:tensorflow:From /usr/local/lib/python3.6/dist-packages/keras/backend/tensorflow_backend.py:3445: calling dropout (from tensorflow.python.ops.nn_ops) with keep_prob is deprecated and will be removed in a future version.\n",
            "Instructions for updating:\n",
            "Please use `rate` instead of `keep_prob`. Rate should be set to `rate = 1 - keep_prob`.\n"
          ],
          "name": "stdout"
        }
      ]
    },
    {
      "metadata": {
        "id": "-ZPFUc_YnT5k",
        "colab_type": "code",
        "outputId": "53a9566f-25c0-4cb3-fc4a-fabb60d4607a",
        "colab": {
          "base_uri": "https://localhost:8080/",
          "height": 612
        }
      },
      "cell_type": "code",
      "source": [
        "model.summary()"
      ],
      "execution_count": 15,
      "outputs": [
        {
          "output_type": "stream",
          "text": [
            "_________________________________________________________________\n",
            "Layer (type)                 Output Shape              Param #   \n",
            "=================================================================\n",
            "conv2d_1 (Conv2D)            (None, 28, 28, 32)        320       \n",
            "_________________________________________________________________\n",
            "conv2d_2 (Conv2D)            (None, 26, 26, 32)        9248      \n",
            "_________________________________________________________________\n",
            "max_pooling2d_1 (MaxPooling2 (None, 13, 13, 32)        0         \n",
            "_________________________________________________________________\n",
            "dropout_1 (Dropout)          (None, 13, 13, 32)        0         \n",
            "_________________________________________________________________\n",
            "conv2d_3 (Conv2D)            (None, 13, 13, 64)        18496     \n",
            "_________________________________________________________________\n",
            "conv2d_4 (Conv2D)            (None, 11, 11, 64)        36928     \n",
            "_________________________________________________________________\n",
            "max_pooling2d_2 (MaxPooling2 (None, 5, 5, 64)          0         \n",
            "_________________________________________________________________\n",
            "dropout_2 (Dropout)          (None, 5, 5, 64)          0         \n",
            "_________________________________________________________________\n",
            "flatten_1 (Flatten)          (None, 1600)              0         \n",
            "_________________________________________________________________\n",
            "dense_1 (Dense)              (None, 256)               409856    \n",
            "_________________________________________________________________\n",
            "activation_1 (Activation)    (None, 256)               0         \n",
            "_________________________________________________________________\n",
            "dropout_3 (Dropout)          (None, 256)               0         \n",
            "_________________________________________________________________\n",
            "dense_2 (Dense)              (None, 10)                2570      \n",
            "_________________________________________________________________\n",
            "activation_2 (Activation)    (None, 10)                0         \n",
            "=================================================================\n",
            "Total params: 477,418\n",
            "Trainable params: 477,418\n",
            "Non-trainable params: 0\n",
            "_________________________________________________________________\n"
          ],
          "name": "stdout"
        }
      ]
    },
    {
      "metadata": {
        "id": "pBaMZw1LFNa9",
        "colab_type": "text"
      },
      "cell_type": "markdown",
      "source": [
        "### 2. Optimizer\n",
        "\n",
        "I will be using Adam optimizer as it combines the best properties of Adagrad and RMSprop algorithms to provide optimization algorithm."
      ]
    },
    {
      "metadata": {
        "id": "Li0zj93bnf-0",
        "colab_type": "code",
        "colab": {}
      },
      "cell_type": "code",
      "source": [
        "adam = keras.optimizers.Adam(lr=0.0001)\n",
        "model.compile(loss='categorical_crossentropy', optimizer=adam, metrics=['accuracy'])"
      ],
      "execution_count": 0,
      "outputs": []
    },
    {
      "metadata": {
        "id": "qfZY5AhVGOrn",
        "colab_type": "text"
      },
      "cell_type": "markdown",
      "source": [
        "### 3. Fit the Model\n",
        "\n",
        "We will be fitting the model using x_train and y_train while taking validation set as x_val and y_val. Batch size of 32 and 30 epochs are chosen respectively."
      ]
    },
    {
      "metadata": {
        "id": "BK-U2rBrqtfv",
        "colab_type": "code",
        "outputId": "2834b7f6-24a8-41c0-f4f6-30ddff935f9e",
        "colab": {
          "base_uri": "https://localhost:8080/",
          "height": 1142
        }
      },
      "cell_type": "code",
      "source": [
        "model.fit(x=x_train,             ## We will be fitting the training data and labels into the model\n",
        "          y=y_train,\n",
        "          validation_data=(x_val,y_val),\n",
        "          batch_size=32,\n",
        "          epochs=30,\n",
        "          verbose=1)"
      ],
      "execution_count": 17,
      "outputs": [
        {
          "output_type": "stream",
          "text": [
            "WARNING:tensorflow:From /usr/local/lib/python3.6/dist-packages/tensorflow/python/ops/math_ops.py:3066: to_int32 (from tensorflow.python.ops.math_ops) is deprecated and will be removed in a future version.\n",
            "Instructions for updating:\n",
            "Use tf.cast instead.\n",
            "Train on 48000 samples, validate on 12000 samples\n",
            "Epoch 1/30\n",
            "48000/48000 [==============================] - 15s 305us/step - loss: 0.4810 - acc: 0.8451 - val_loss: 0.1068 - val_acc: 0.9697\n",
            "Epoch 2/30\n",
            "48000/48000 [==============================] - 9s 183us/step - loss: 0.1483 - acc: 0.9550 - val_loss: 0.0715 - val_acc: 0.9796\n",
            "Epoch 3/30\n",
            "48000/48000 [==============================] - 9s 184us/step - loss: 0.1043 - acc: 0.9676 - val_loss: 0.0563 - val_acc: 0.9841\n",
            "Epoch 4/30\n",
            "48000/48000 [==============================] - 9s 183us/step - loss: 0.0841 - acc: 0.9747 - val_loss: 0.0475 - val_acc: 0.9867\n",
            "Epoch 5/30\n",
            "48000/48000 [==============================] - 9s 184us/step - loss: 0.0728 - acc: 0.9776 - val_loss: 0.0394 - val_acc: 0.9891\n",
            "Epoch 6/30\n",
            "48000/48000 [==============================] - 10s 198us/step - loss: 0.0622 - acc: 0.9811 - val_loss: 0.0352 - val_acc: 0.9898\n",
            "Epoch 7/30\n",
            "48000/48000 [==============================] - 9s 186us/step - loss: 0.0559 - acc: 0.9828 - val_loss: 0.0344 - val_acc: 0.9899\n",
            "Epoch 8/30\n",
            "48000/48000 [==============================] - 9s 183us/step - loss: 0.0494 - acc: 0.9847 - val_loss: 0.0333 - val_acc: 0.9906\n",
            "Epoch 9/30\n",
            "48000/48000 [==============================] - 9s 182us/step - loss: 0.0452 - acc: 0.9859 - val_loss: 0.0307 - val_acc: 0.9912\n",
            "Epoch 10/30\n",
            "48000/48000 [==============================] - 9s 185us/step - loss: 0.0409 - acc: 0.9869 - val_loss: 0.0296 - val_acc: 0.9908\n",
            "Epoch 11/30\n",
            "48000/48000 [==============================] - 10s 202us/step - loss: 0.0369 - acc: 0.9884 - val_loss: 0.0295 - val_acc: 0.9911\n",
            "Epoch 12/30\n",
            "48000/48000 [==============================] - 9s 190us/step - loss: 0.0326 - acc: 0.9892 - val_loss: 0.0307 - val_acc: 0.9916\n",
            "Epoch 13/30\n",
            "48000/48000 [==============================] - 9s 185us/step - loss: 0.0323 - acc: 0.9898 - val_loss: 0.0282 - val_acc: 0.9919\n",
            "Epoch 14/30\n",
            "48000/48000 [==============================] - 9s 185us/step - loss: 0.0307 - acc: 0.9905 - val_loss: 0.0288 - val_acc: 0.9929\n",
            "Epoch 15/30\n",
            "48000/48000 [==============================] - 10s 198us/step - loss: 0.0279 - acc: 0.9909 - val_loss: 0.0269 - val_acc: 0.9927\n",
            "Epoch 16/30\n",
            "48000/48000 [==============================] - 9s 185us/step - loss: 0.0254 - acc: 0.9915 - val_loss: 0.0290 - val_acc: 0.9922\n",
            "Epoch 17/30\n",
            "48000/48000 [==============================] - 9s 184us/step - loss: 0.0242 - acc: 0.9924 - val_loss: 0.0284 - val_acc: 0.9925\n",
            "Epoch 18/30\n",
            "48000/48000 [==============================] - 9s 184us/step - loss: 0.0223 - acc: 0.9930 - val_loss: 0.0309 - val_acc: 0.9922\n",
            "Epoch 19/30\n",
            "48000/48000 [==============================] - 9s 183us/step - loss: 0.0215 - acc: 0.9925 - val_loss: 0.0271 - val_acc: 0.9925\n",
            "Epoch 20/30\n",
            "48000/48000 [==============================] - 9s 183us/step - loss: 0.0206 - acc: 0.9929 - val_loss: 0.0271 - val_acc: 0.9933\n",
            "Epoch 21/30\n",
            "48000/48000 [==============================] - 9s 184us/step - loss: 0.0201 - acc: 0.9933 - val_loss: 0.0277 - val_acc: 0.9931\n",
            "Epoch 22/30\n",
            "48000/48000 [==============================] - 9s 183us/step - loss: 0.0175 - acc: 0.9944 - val_loss: 0.0301 - val_acc: 0.9924\n",
            "Epoch 23/30\n",
            "48000/48000 [==============================] - 9s 184us/step - loss: 0.0169 - acc: 0.9941 - val_loss: 0.0288 - val_acc: 0.9928\n",
            "Epoch 24/30\n",
            "48000/48000 [==============================] - 10s 198us/step - loss: 0.0179 - acc: 0.9940 - val_loss: 0.0284 - val_acc: 0.9933\n",
            "Epoch 25/30\n",
            "48000/48000 [==============================] - 9s 186us/step - loss: 0.0168 - acc: 0.9947 - val_loss: 0.0302 - val_acc: 0.9930\n",
            "Epoch 26/30\n",
            "48000/48000 [==============================] - 9s 184us/step - loss: 0.0163 - acc: 0.9946 - val_loss: 0.0263 - val_acc: 0.9928\n",
            "Epoch 27/30\n",
            "48000/48000 [==============================] - 9s 195us/step - loss: 0.0146 - acc: 0.9954 - val_loss: 0.0273 - val_acc: 0.9937\n",
            "Epoch 28/30\n",
            "48000/48000 [==============================] - 9s 183us/step - loss: 0.0157 - acc: 0.9943 - val_loss: 0.0253 - val_acc: 0.9933\n",
            "Epoch 29/30\n",
            "48000/48000 [==============================] - 9s 183us/step - loss: 0.0138 - acc: 0.9957 - val_loss: 0.0291 - val_acc: 0.9928\n",
            "Epoch 30/30\n",
            "48000/48000 [==============================] - 9s 184us/step - loss: 0.0121 - acc: 0.9961 - val_loss: 0.0269 - val_acc: 0.9927\n"
          ],
          "name": "stdout"
        },
        {
          "output_type": "execute_result",
          "data": {
            "text/plain": [
              "<keras.callbacks.History at 0x7f855b6fb8d0>"
            ]
          },
          "metadata": {
            "tags": []
          },
          "execution_count": 17
        }
      ]
    },
    {
      "metadata": {
        "id": "kuwv1M17M7A_",
        "colab_type": "text"
      },
      "cell_type": "markdown",
      "source": [
        "### 4. Evaluate the model"
      ]
    },
    {
      "metadata": {
        "id": "e9sux8cZ3LU4",
        "colab_type": "code",
        "outputId": "fc44a33c-0e02-400f-8233-f13e3bc7ecba",
        "colab": {
          "base_uri": "https://localhost:8080/",
          "height": 350
        }
      },
      "cell_type": "code",
      "source": [
        "fig, ax = plt.subplots(2,1)\n",
        "ax[0].plot(model.history.history['loss'], color='b', label=\"Training loss\")\n",
        "ax[0].plot(model.history.history['val_loss'], color='r', label=\"validation loss\",axes =ax[0])\n",
        "legend = ax[0].legend(loc='best', shadow=True)\n",
        "\n",
        "ax[1].plot(model.history.history['acc'], color='b', label=\"Training accuracy\")\n",
        "ax[1].plot(model.history.history['val_acc'], color='r',label=\"Validation accuracy\")\n",
        "legend = ax[1].legend(loc='best', shadow=True)"
      ],
      "execution_count": 18,
      "outputs": [
        {
          "output_type": "display_data",
          "data": {
            "image/png": "[encoded data removed]",
            "text/plain": [
              "<Figure size 576x396 with 2 Axes>"
            ]
          },
          "metadata": {
            "tags": []
          }
        }
      ]
    },
    {
      "metadata": {
        "id": "7xU-pJTKPuJY",
        "colab_type": "text"
      },
      "cell_type": "markdown",
      "source": [
        "From the above graph, we can see that the training and validation accuracy are close to each other. Thus, there is no overfitting here."
      ]
    },
    {
      "metadata": {
        "id": "Glqc70_Fwtgy",
        "colab_type": "code",
        "colab": {}
      },
      "cell_type": "code",
      "source": [
        "y_pred = model.predict(x_test)"
      ],
      "execution_count": 0,
      "outputs": []
    },
    {
      "metadata": {
        "id": "HL9ZHhip6bA9",
        "colab_type": "code",
        "colab": {}
      },
      "cell_type": "code",
      "source": [
        "y_pred_classes = np.argmax(y_pred,axis = 1)\n",
        "y_true = np.argmax(y_test,axis = 1) "
      ],
      "execution_count": 0,
      "outputs": []
    },
    {
      "metadata": {
        "id": "d8L-Wq-i1Eip",
        "colab_type": "code",
        "colab": {}
      },
      "cell_type": "code",
      "source": [
        "from sklearn.metrics import confusion_matrix, accuracy_score"
      ],
      "execution_count": 0,
      "outputs": []
    },
    {
      "metadata": {
        "id": "Px1nz5Nv1Jds",
        "colab_type": "code",
        "outputId": "0dddbf6a-8f9d-46d4-e55a-551460af0df7",
        "colab": {
          "base_uri": "https://localhost:8080/",
          "height": 238
        }
      },
      "cell_type": "code",
      "source": [
        "print('The Confusion matrix is:\\n', confusion_matrix(y_true,y_pred_classes))\n",
        "print('The Accuracy score is:\\n', accuracy_score(y_true,y_pred_classes))"
      ],
      "execution_count": 22,
      "outputs": [
        {
          "output_type": "stream",
          "text": [
            "The Confusion matrix is:\n",
            " [[ 978    0    0    0    0    0    0    1    1    0]\n",
            " [   0 1133    1    0    0    0    1    0    0    0]\n",
            " [   1    0 1029    0    0    0    1    1    0    0]\n",
            " [   0    0    1 1005    0    3    0    0    1    0]\n",
            " [   0    0    0    0  967    0    6    1    0    8]\n",
            " [   1    0    0    6    0  884    1    0    0    0]\n",
            " [   2    1    0    1    1    5  948    0    0    0]\n",
            " [   0    1    5    0    0    0    0 1020    0    2]\n",
            " [   1    0    2    2    0    1    0    0  967    1]\n",
            " [   0    0    1    0    2    5    1    3    0  997]]\n",
            "The Accuracy score is:\n",
            " 0.9928\n"
          ],
          "name": "stdout"
        }
      ]
    },
    {
      "metadata": {
        "id": "Csx21meS6yzt",
        "colab_type": "code",
        "colab": {}
      },
      "cell_type": "code",
      "source": [
        ""
      ],
      "execution_count": 0,
      "outputs": []
    }
  ]
}